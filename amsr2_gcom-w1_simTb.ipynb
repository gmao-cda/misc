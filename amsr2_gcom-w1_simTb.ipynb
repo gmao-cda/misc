{
 "cells": [
  {
   "cell_type": "code",
   "execution_count": 1,
   "metadata": {
    "collapsed": true
   },
   "outputs": [],
   "source": [
    "import matplotlib.pyplot as plt\n",
    "import numpy as np\n",
    "%matplotlib inline"
   ]
  },
  {
   "cell_type": "code",
   "execution_count": 2,
   "metadata": {},
   "outputs": [],
   "source": [
    "data = np.array(np.genfromtxt('amsr2_gcom-w1.user_all'))"
   ]
  },
  {
   "cell_type": "code",
   "execution_count": 3,
   "metadata": {},
   "outputs": [],
   "source": [
    "#print(data,data.shape)\n"
   ]
  },
  {
   "cell_type": "code",
   "execution_count": 4,
   "metadata": {},
   "outputs": [
    {
     "data": {
      "text/plain": [
       "Text(0,0.5,'BT (K)')"
      ]
     },
     "execution_count": 4,
     "metadata": {},
     "output_type": "execute_result"
    },
    {
     "data": {
      "image/png": "[encoded data removed]",
      "text/plain": [
       "<matplotlib.figure.Figure at 0x10d965f98>"
      ]
     },
     "metadata": {},
     "output_type": "display_data"
    }
   ],
   "source": [
    "plt.figure(1)\n",
    "#plt.plot(data[:,0],data[:,1],'r-',label=\"6.9V\")\n",
    "#plt.plot(data[:,0],data[:,2],'r--',label=\"6.9H\")\n",
    "#plt.plot(data[:,0],data[:,3],'b-',label=\"7.2V\")\n",
    "#plt.plot(data[:,0],data[:,4],'b--',label=\"7.2H\")\n",
    "#plt.plot(data[:,0],data[:,5],'y-',label=\"10.65V\")\n",
    "#plt.plot(data[:,0],data[:,6],'y--',label=\"10.65H\")\n",
    "plt.plot(data[:,0],data[:,7],'m-',label=\"18.7V\")\n",
    "#plt.plot(data[:,0],data[:,8],'m--',label=\"18.7H\")\n",
    "#plt.plot(data[:,0],data[:,9],'k-',label=\"23.8V\")\n",
    "#plt.plot(data[:,0],data[:,10],'k--',label=\"23.8H\")\n",
    "#plt.plot(data[:,0],data[:,11],'g-',label=\"36.5V\")\n",
    "#plt.plot(data[:,0],data[:,12],'g--',label=\"36.5H\")\n",
    "#plt.plot(data[:,0],data[:,13],'c-',label=\"89.0V\")\n",
    "#plt.plot(data[:,0],data[:,14],'c--',label=\"89.0H\")\n",
    "plt.legend()\n",
    "plt.xlabel(\"Tskin (deg C)\")\n",
    "plt.ylabel(\"BT (K)\")"
   ]
  }
 ],
 "metadata": {
  "kernelspec": {
   "display_name": "Python 3",
   "language": "python",
   "name": "python3"
  },
  "language_info": {
   "codemirror_mode": {
    "name": "ipython",
    "version": 3
   },
   "file_extension": ".py",
   "mimetype": "text/x-python",
   "name": "python",
   "nbconvert_exporter": "python",
   "pygments_lexer": "ipython3",
   "version": "3.6.3"
  }
 },
 "nbformat": 4,
 "nbformat_minor": 2
}
